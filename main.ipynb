{
 "cells": [
  {
   "cell_type": "code",
   "execution_count": 1,
   "metadata": {},
   "outputs": [
    {
     "name": "stdout",
     "output_type": "stream",
     "text": [
      "{'model_class': 'VAE', 'model_params': {'x_dim': 784, 'h_dim1': 512, 'h_dim2': 256, 'z_dim': 2}, 'data_params': {'batch_size': 128}}\n",
      "VAE(784_512_256_2)?batch_size=128\n"
     ]
    }
   ],
   "source": [
    "import torch\n",
    "from torchvision import datasets, transforms\n",
    "from config_loader import load_config, get_model_name\n",
    "\n",
    "config = load_config(\"example_01\")\n",
    "\n",
    "BATCH_SIZE = config['data_params']['batch_size']\n",
    "\n",
    "train_dataset = datasets.MNIST(root='./data', train=True, transform=transforms.ToTensor(), download=True)\n",
    "val_dataset = datasets.MNIST(root='./data', train=False, transform=transforms.ToTensor(), download=True)\n",
    "\n",
    "train_loader = torch.utils.data.DataLoader(dataset=train_dataset, batch_size=BATCH_SIZE, shuffle=True)\n",
    "val_loader = torch.utils.data.DataLoader(dataset=val_dataset, batch_size=BATCH_SIZE, shuffle=False)\n",
    "\n",
    "print(config)\n",
    "\n",
    "# this is the name that will be used to save the model checkpoint and also for logging.\n",
    "model_name = get_model_name(config)\n",
    "print(model_name)"
   ]
  },
  {
   "cell_type": "code",
   "execution_count": 2,
   "metadata": {},
   "outputs": [
    {
     "name": "stderr",
     "output_type": "stream",
     "text": [
      "/Home/siv34/edzak2974/.conda/envs/pytorch2.1/lib/python3.10/site-packages/lightning/fabric/plugins/environments/slurm.py:191: The `srun` command is available on your system but is not used. HINT: If your intention is to run Lightning on SLURM, prepend your python command with `srun` like so: srun python /Home/siv34/edzak2974/.conda/envs/pytorch2.1/lib/pyt ...\n",
      "GPU available: True (cuda), used: True\n",
      "TPU available: False, using: 0 TPU cores\n",
      "IPU available: False, using: 0 IPUs\n",
      "HPU available: False, using: 0 HPUs\n",
      "You are using a CUDA device ('A100-SXM4-80GB') that has Tensor Cores. To properly utilize them, you should set `torch.set_float32_matmul_precision('medium' | 'high')` which will trade-off precision for performance. For more details, read https://pytorch.org/docs/stable/generated/torch.set_float32_matmul_precision.html#torch.set_float32_matmul_precision\n",
      "Failed to detect the name of this notebook, you can set it manually with the WANDB_NOTEBOOK_NAME environment variable to enable code saving.\n",
      "\u001b[34m\u001b[1mwandb\u001b[0m: Currently logged in as: \u001b[33medvardsz\u001b[0m (\u001b[33mcristobal_and_edvards\u001b[0m). Use \u001b[1m`wandb login --relogin`\u001b[0m to force relogin\n"
     ]
    },
    {
     "data": {
      "text/html": [
       "Tracking run with wandb version 0.15.12"
      ],
      "text/plain": [
       "<IPython.core.display.HTML object>"
      ]
     },
     "metadata": {},
     "output_type": "display_data"
    },
    {
     "data": {
      "text/html": [
       "Run data is saved locally in <code>./wandb/run-20231103_154257-edbpg9zq</code>"
      ],
      "text/plain": [
       "<IPython.core.display.HTML object>"
      ]
     },
     "metadata": {},
     "output_type": "display_data"
    },
    {
     "data": {
      "text/html": [
       "Syncing run <strong><a href='https://wandb.ai/cristobal_and_edvards/DataScienceCompetition2023/runs/edbpg9zq' target=\"_blank\">VAE(784_512_256_2)?batch_size=128</a></strong> to <a href='https://wandb.ai/cristobal_and_edvards/DataScienceCompetition2023' target=\"_blank\">Weights & Biases</a> (<a href='https://wandb.me/run' target=\"_blank\">docs</a>)<br/>"
      ],
      "text/plain": [
       "<IPython.core.display.HTML object>"
      ]
     },
     "metadata": {},
     "output_type": "display_data"
    },
    {
     "data": {
      "text/html": [
       " View project at <a href='https://wandb.ai/cristobal_and_edvards/DataScienceCompetition2023' target=\"_blank\">https://wandb.ai/cristobal_and_edvards/DataScienceCompetition2023</a>"
      ],
      "text/plain": [
       "<IPython.core.display.HTML object>"
      ]
     },
     "metadata": {},
     "output_type": "display_data"
    },
    {
     "data": {
      "text/html": [
       " View run at <a href='https://wandb.ai/cristobal_and_edvards/DataScienceCompetition2023/runs/edbpg9zq' target=\"_blank\">https://wandb.ai/cristobal_and_edvards/DataScienceCompetition2023/runs/edbpg9zq</a>"
      ],
      "text/plain": [
       "<IPython.core.display.HTML object>"
      ]
     },
     "metadata": {},
     "output_type": "display_data"
    },
    {
     "name": "stderr",
     "output_type": "stream",
     "text": [
      "LOCAL_RANK: 0 - CUDA_VISIBLE_DEVICES: [0,1,2,3,4,5,6,7]\n",
      "\n",
      "  | Name  | Type | Params\n",
      "-------------------------------\n",
      "0 | model | VAE  | 1.1 M \n",
      "-------------------------------\n",
      "1.1 M     Trainable params\n",
      "0         Non-trainable params\n",
      "1.1 M     Total params\n",
      "4.275     Total estimated model params size (MB)\n"
     ]
    },
    {
     "name": "stdout",
     "output_type": "stream",
     "text": [
      "Sanity Checking DataLoader 0:   0%|          | 0/2 [00:00<?, ?it/s]"
     ]
    },
    {
     "name": "stderr",
     "output_type": "stream",
     "text": [
      "/Home/siv34/edzak2974/.conda/envs/pytorch2.1/lib/python3.10/site-packages/lightning/pytorch/trainer/connectors/data_connector.py:441: The 'val_dataloader' does not have many workers which may be a bottleneck. Consider increasing the value of the `num_workers` argument` to `num_workers=255` in the `DataLoader` to improve performance.\n"
     ]
    },
    {
     "name": "stdout",
     "output_type": "stream",
     "text": [
      "                                                                           "
     ]
    },
    {
     "name": "stderr",
     "output_type": "stream",
     "text": [
      "/Home/siv34/edzak2974/.conda/envs/pytorch2.1/lib/python3.10/site-packages/lightning/pytorch/trainer/connectors/data_connector.py:441: The 'train_dataloader' does not have many workers which may be a bottleneck. Consider increasing the value of the `num_workers` argument` to `num_workers=255` in the `DataLoader` to improve performance.\n"
     ]
    },
    {
     "name": "stdout",
     "output_type": "stream",
     "text": [
      "Epoch 9: 100%|██████████| 469/469 [00:07<00:00, 64.99it/s, v_num=g9zq, train_loss=1.36e+4, train_BCE_loss=1.29e+4, train_KLD_loss=633.0, val_loss=1.84e+4, val_BCE_loss=1.76e+4, val_KLD_loss=814.0]"
     ]
    },
    {
     "name": "stderr",
     "output_type": "stream",
     "text": [
      "`Trainer.fit` stopped: `max_epochs=10` reached.\n"
     ]
    },
    {
     "name": "stdout",
     "output_type": "stream",
     "text": [
      "Epoch 9: 100%|██████████| 469/469 [00:07<00:00, 61.67it/s, v_num=g9zq, train_loss=1.36e+4, train_BCE_loss=1.29e+4, train_KLD_loss=633.0, val_loss=1.84e+4, val_BCE_loss=1.76e+4, val_KLD_loss=814.0]\n"
     ]
    },
    {
     "data": {
      "text/html": [
       "Waiting for W&B process to finish... <strong style=\"color:green\">(success).</strong>"
      ],
      "text/plain": [
       "<IPython.core.display.HTML object>"
      ]
     },
     "metadata": {},
     "output_type": "display_data"
    },
    {
     "name": "stderr",
     "output_type": "stream",
     "text": [
      "wandb: WARNING Source type is set to 'repo' but some required information is missing from the environment. A job will not be created from this run. See https://docs.wandb.ai/guides/launch/create-job\n"
     ]
    },
    {
     "data": {
      "text/html": [
       "<style>\n",
       "    table.wandb td:nth-child(1) { padding: 0 10px; text-align: left ; width: auto;} td:nth-child(2) {text-align: left ; width: 100%}\n",
       "    .wandb-row { display: flex; flex-direction: row; flex-wrap: wrap; justify-content: flex-start; width: 100% }\n",
       "    .wandb-col { display: flex; flex-direction: column; flex-basis: 100%; flex: 1; padding: 10px; }\n",
       "    </style>\n",
       "<div class=\"wandb-row\"><div class=\"wandb-col\"><h3>Run history:</h3><br/><table class=\"wandb\"><tr><td>epoch</td><td>▁▁▁▁▂▂▂▂▃▃▃▃▃▃▃▃▄▄▄▄▅▅▅▅▆▆▆▆▆▆▆▆▇▇▇▇████</td></tr><tr><td>train_BCE_loss</td><td>█▅▄▄▃▃▂▃▃▄▂▂▂▂▃▂▂▂▃▂▂▂▂▂▂▂▂▂▁▂▂▂▁▂▁▂▁▁▂▂</td></tr><tr><td>train_KLD_loss</td><td>▁▅▆▆▆▆▇▆▇▇▇▇▇▇▇▇▇▇▇▇▇▇█▇████▇▇██████████</td></tr><tr><td>train_loss</td><td>█▅▄▄▃▄▂▃▃▄▂▂▃▂▃▂▂▂▃▂▂▂▂▂▂▂▂▂▁▂▂▂▁▂▁▂▁▁▂▂</td></tr><tr><td>trainer/global_step</td><td>▁▁▁▂▂▂▂▂▂▃▃▃▃▃▃▄▄▄▄▄▅▅▅▅▅▅▆▆▆▆▆▇▇▇▇▇▇███</td></tr><tr><td>val_BCE_loss</td><td>█▅▄▃▂▂▂▁▁▁</td></tr><tr><td>val_KLD_loss</td><td>▁▂▄▄▆▇▆██▇</td></tr><tr><td>val_loss</td><td>█▅▄▃▂▂▂▁▁▁</td></tr></table><br/></div><div class=\"wandb-col\"><h3>Run summary:</h3><br/><table class=\"wandb\"><tr><td>epoch</td><td>9</td></tr><tr><td>train_BCE_loss</td><td>18550.57031</td></tr><tr><td>train_KLD_loss</td><td>816.36719</td></tr><tr><td>train_loss</td><td>19366.9375</td></tr><tr><td>trainer/global_step</td><td>4689</td></tr><tr><td>val_BCE_loss</td><td>17575.48242</td></tr><tr><td>val_KLD_loss</td><td>814.45935</td></tr><tr><td>val_loss</td><td>18389.9375</td></tr></table><br/></div></div>"
      ],
      "text/plain": [
       "<IPython.core.display.HTML object>"
      ]
     },
     "metadata": {},
     "output_type": "display_data"
    },
    {
     "data": {
      "text/html": [
       " View run <strong style=\"color:#cdcd00\">VAE(784_512_256_2)?batch_size=128</strong> at: <a href='https://wandb.ai/cristobal_and_edvards/DataScienceCompetition2023/runs/edbpg9zq' target=\"_blank\">https://wandb.ai/cristobal_and_edvards/DataScienceCompetition2023/runs/edbpg9zq</a><br/>Synced 6 W&B file(s), 0 media file(s), 10 artifact file(s) and 0 other file(s)"
      ],
      "text/plain": [
       "<IPython.core.display.HTML object>"
      ]
     },
     "metadata": {},
     "output_type": "display_data"
    },
    {
     "data": {
      "text/html": [
       "Find logs at: <code>./wandb/run-20231103_154257-edbpg9zq/logs</code>"
      ],
      "text/plain": [
       "<IPython.core.display.HTML object>"
      ]
     },
     "metadata": {},
     "output_type": "display_data"
    }
   ],
   "source": [
    "from trainers import ExtendedTrainer\n",
    "from modules import BaseModule\n",
    "\n",
    "model = BaseModule(model_class_name = config['model_class'], model_params = config['model_params'])\n",
    "\n",
    "trainer = ExtendedTrainer(project_name=\"DataScienceCompetition2023\", max_epochs = 10, model_name=model_name)\n",
    "trainer.fit(model, train_loader, val_loader)\n",
    "#save\n",
    "trainer.save_model_checkpoint()"
   ]
  },
  {
   "cell_type": "code",
   "execution_count": 5,
   "metadata": {},
   "outputs": [
    {
     "name": "stdout",
     "output_type": "stream",
     "text": [
      "VAE(784_512_256_2)?batch_size=128\n",
      "torch.Size([28, 28])\n"
     ]
    },
    {
     "data": {
      "image/png": "[encoded data removed]",
      "text/plain": [
       "<Figure size 640x480 with 1 Axes>"
      ]
     },
     "metadata": {},
     "output_type": "display_data"
    },
    {
     "data": {
      "text/plain": [
       "<matplotlib.image.AxesImage at 0x7fb64a2a4340>"
      ]
     },
     "execution_count": 5,
     "metadata": {},
     "output_type": "execute_result"
    },
    {
     "data": {
      "image/png": "[encoded data removed]",
      "text/plain": [
       "<Figure size 640x480 with 1 Axes>"
      ]
     },
     "metadata": {},
     "output_type": "display_data"
    }
   ],
   "source": [
    "from modules import BaseModule\n",
    "print(model_name)\n",
    "model = BaseModule.load_model_checkpoint(model_name = model_name)\n",
    "model.eval()\n",
    "\n",
    "x, y = next(iter(val_loader))\n",
    "\n",
    "recon, mu, logvar = model(x,y)\n",
    "\n",
    "from matplotlib import pyplot as plt\n",
    "\n",
    "recon = x[0].reshape(28,28)\n",
    "print(recon.shape)\n",
    "plt.imshow(x[0][0], cmap='gray')\n",
    "plt.show()\n",
    "plt.imshow(recon.detach().numpy(), cmap='gray')\n",
    "\n"
   ]
  },
  {
   "cell_type": "code",
   "execution_count": 1,
   "metadata": {},
   "outputs": [],
   "source": [
    "import pandas as pd\n",
    "abundance_df = pd.read_csv(\"./data/abundance_table.csv\",index_col = 0)\n",
    "meta_df = pd.read_csv(\"./data/env_parameter_sample.csv\",index_col = 0)\n",
    "\n"
   ]
  },
  {
   "cell_type": "code",
   "execution_count": 61,
   "metadata": {},
   "outputs": [
    {
     "data": {
      "image/png": "[encoded data removed]",
      "text/plain": [
       "<Figure size 640x480 with 1 Axes>"
      ]
     },
     "metadata": {},
     "output_type": "display_data"
    }
   ],
   "source": [
    "from sklearn.manifold import TSNE\n",
    "import seaborn as sns\n",
    "from utils.utils import get_by_system, get_by_timestep, get_by_treatment, get_replicates\n",
    "import numpy as np\n",
    "\n",
    "new_df = get_by_system(abundance_df, 'B')\n",
    "y = new_df['Treatment'].values\n",
    "new_df = new_df.values[:,:-4]\n",
    "\n",
    "tsne_proj = TSNE(n_components=2, learning_rate='auto',init='random', random_state=42, perplexity=10).fit_transform(new_df)\n",
    "#y = abundance_df['Aquaculture System'].values\n",
    "\n",
    "df = pd.DataFrame()\n",
    "df[\"y\"] = y\n",
    "df[\"comp-1\"] = tsne_proj[:,0]\n",
    "df[\"comp-2\"] = tsne_proj[:,1]\n",
    "\n",
    "tsne_plot = sns.scatterplot(x=\"comp-1\", y=\"comp-2\", hue=df.y.tolist(),\n",
    "                palette=sns.color_palette(\"tab10\", 10),\n",
    "                data=df)\n",
    "tsne_plot.set_title(\"TSNE Projection of System B and Treatment\")\n",
    "tsne_plot.legend(loc='center left', bbox_to_anchor=(1, 0.5))\n",
    "tsne_fig = tsne_plot.get_figure()\n",
    "tsne_fig.savefig(\"./plots/TSNE_SystemB_Treatment\")\n",
    "\n"
   ]
  },
  {
   "cell_type": "code",
   "execution_count": null,
   "metadata": {},
   "outputs": [],
   "source": [
    "abun"
   ]
  },
  {
   "cell_type": "code",
   "execution_count": 9,
   "metadata": {},
   "outputs": [
    {
     "data": {
      "text/plain": [
       "array([[0.0, 0.0, 0.0, ..., 0.0, 99.93, 0.07],\n",
       "       [0.05, 0.05, 0.05, ..., 0.0, 33.83, 66.17],\n",
       "       [0.05, 0.05, 0.05, ..., 0.01, 29.55, 70.45],\n",
       "       ...,\n",
       "       [0.02, 0.02, 0.02, ..., 0.01, 17.72, 82.28],\n",
       "       [0.03, 0.03, 0.03, ..., 0.0, 17.49, 82.51],\n",
       "       [0.03, 0.03, 0.03, ..., 0.0, 17.3, 82.7]], dtype=object)"
      ]
     },
     "execution_count": 9,
     "metadata": {},
     "output_type": "execute_result"
    }
   ],
   "source": [
    "abundance_df.values[:,:-4]"
   ]
  }
 ],
 "metadata": {
  "kernelspec": {
   "display_name": "pytorch2.1",
   "language": "python",
   "name": "python3"
  },
  "language_info": {
   "codemirror_mode": {
    "name": "ipython",
    "version": 3
   },
   "file_extension": ".py",
   "mimetype": "text/x-python",
   "name": "python",
   "nbconvert_exporter": "python",
   "pygments_lexer": "ipython3",
   "version": "3.11.6"
  }
 },
 "nbformat": 4,
 "nbformat_minor": 2
}
